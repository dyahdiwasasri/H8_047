{
  "nbformat": 4,
  "nbformat_minor": 0,
  "metadata": {
    "colab": {
      "name": "Sesi_2.ipynb",
      "provenance": []
    },
    "kernelspec": {
      "name": "python3",
      "display_name": "Python 3"
    }
  },
  "cells": [
    {
      "cell_type": "markdown",
      "metadata": {
        "id": "5nAzzn7l7ycP"
      },
      "source": [
        "# Sesi 2"
      ]
    },
    {
      "cell_type": "markdown",
      "metadata": {
        "id": "CsBPj-9Q8SkR"
      },
      "source": [
        "## If Statement"
      ]
    },
    {
      "cell_type": "code",
      "metadata": {
        "colab": {
          "base_uri": "https://localhost:8080/"
        },
        "id": "SqcLEu2D6n9g",
        "outputId": "502d77af-9f97-4832-e968-1766f902a63f"
      },
      "source": [
        "utang = 9\n",
        "saldo = 5\n",
        "\n",
        "if saldo<utang:\n",
        "    print('bisa tuh bayar utang wkwk')"
      ],
      "execution_count": 21,
      "outputs": [
        {
          "output_type": "stream",
          "text": [
            "bisa tuh bayar utang wkwk\n"
          ],
          "name": "stdout"
        }
      ]
    },
    {
      "cell_type": "code",
      "metadata": {
        "colab": {
          "base_uri": "https://localhost:8080/"
        },
        "id": "Jiuh83lv9h2b",
        "outputId": "d5d151a7-eaf5-4f48-a8bd-ca9e28cd5d65"
      },
      "source": [
        "if utang:\n",
        "  print('Ini adalah utang Anda')"
      ],
      "execution_count": 22,
      "outputs": [
        {
          "output_type": "stream",
          "text": [
            "Ini adalah utang Anda\n"
          ],
          "name": "stdout"
        }
      ]
    },
    {
      "cell_type": "code",
      "metadata": {
        "colab": {
          "base_uri": "https://localhost:8080/"
        },
        "id": "d2V-Bu139pId",
        "outputId": "7c242c85-6b67-4c97-a5d8-d0f858bf048f"
      },
      "source": [
        "if 'uta' in 'utang':\n",
        "  print('yes')"
      ],
      "execution_count": 23,
      "outputs": [
        {
          "output_type": "stream",
          "text": [
            "yes\n"
          ],
          "name": "stdout"
        }
      ]
    },
    {
      "cell_type": "markdown",
      "metadata": {
        "id": "3d5JX2vy94b9"
      },
      "source": [
        "## Grouping Statement"
      ]
    },
    {
      "cell_type": "code",
      "metadata": {
        "colab": {
          "base_uri": "https://localhost:8080/"
        },
        "id": "cFl-Nw9E9_TE",
        "outputId": "6e223cf3-de41-4f52-b17f-9e6c71ab7d04"
      },
      "source": [
        "if 'uta' in 'utang':\n",
        "  print('Kamu ada utang nih')\n",
        "  print ('Makanya bayar utang dong')\n",
        "  print ('Jangan ditunda atau pura pura lupa ye')\n",
        "\n",
        "print ('Ini ga ada hubungannya gais')"
      ],
      "execution_count": 24,
      "outputs": [
        {
          "output_type": "stream",
          "text": [
            "Kamu ada utang nih\n",
            "Makanya bayar utang dong\n",
            "Jangan ditunda atau pura pura lupa ye\n",
            "Ini ga ada hubungannya gais\n"
          ],
          "name": "stdout"
        }
      ]
    },
    {
      "cell_type": "code",
      "metadata": {
        "colab": {
          "base_uri": "https://localhost:8080/"
        },
        "id": "iFYo5zb1_EAT",
        "outputId": "1239cf78-cdb6-4068-d4fe-3bfb0a070b46"
      },
      "source": [
        "if 'mamam' in 'utang':\n",
        "  print('Kamu ada utang nih')\n",
        "  print ('Makanya bayar utang dong')\n",
        "  print ('Jangan ditunda atau pura pura lupa ye')\n",
        "\n",
        "print ('Ini ga ada hubungannya gais')"
      ],
      "execution_count": 25,
      "outputs": [
        {
          "output_type": "stream",
          "text": [
            "Ini ga ada hubungannya gais\n"
          ],
          "name": "stdout"
        }
      ]
    },
    {
      "cell_type": "markdown",
      "metadata": {
        "id": "z-5HT-HF_b43"
      },
      "source": [
        "## Else & Elif"
      ]
    },
    {
      "cell_type": "code",
      "metadata": {
        "colab": {
          "base_uri": "https://localhost:8080/"
        },
        "id": "cJ2_adID_hdE",
        "outputId": "c750d714-419f-44c7-e0cc-8d7b1644f474"
      },
      "source": [
        "utang = 50000\n",
        "saldo = 100000\n",
        "\n",
        "if saldo > utang:\n",
        "  print('bisa nih beli gofood')\n",
        "else:\n",
        "  print('bayar utang dulu keles')"
      ],
      "execution_count": 26,
      "outputs": [
        {
          "output_type": "stream",
          "text": [
            "bisa nih beli gofood\n"
          ],
          "name": "stdout"
        }
      ]
    },
    {
      "cell_type": "code",
      "metadata": {
        "colab": {
          "base_uri": "https://localhost:8080/"
        },
        "id": "UzmTGScyBbUu",
        "outputId": "a164792f-242d-4e54-d104-6b4629e85c14"
      },
      "source": [
        "utang = 50000\n",
        "saldo = 40000\n",
        "hargaGoFood = 45000\n",
        "\n",
        "if saldo > utang:\n",
        "  print('bisa nih bayar utang hehe')\n",
        "elif saldo < utang:\n",
        "  print('gabisa bayar utang, mending makan dulu')\n",
        "elif saldo > hargaGoFood:\n",
        "  print('bisa nih beli Go Food')\n",
        "else:\n",
        "  print('udahlah nyerah aja')"
      ],
      "execution_count": 27,
      "outputs": [
        {
          "output_type": "stream",
          "text": [
            "gabisa bayar utang, mending makan dulu\n"
          ],
          "name": "stdout"
        }
      ]
    },
    {
      "cell_type": "markdown",
      "metadata": {
        "id": "a70EjYFVDBpS"
      },
      "source": [
        "## One Line If Statement"
      ]
    },
    {
      "cell_type": "code",
      "metadata": {
        "colab": {
          "base_uri": "https://localhost:8080/"
        },
        "id": "b3qfisixDKs-",
        "outputId": "b62ae1f4-9c0e-48c0-ce48-d79f1966cd46"
      },
      "source": [
        "moon = 3\n",
        "\n",
        "if moon == 3: print('bulan');print('luna')\n",
        "elif moon == 2: print('bulan kw');print('luna kw')\n",
        "else: print('bintangkecil')"
      ],
      "execution_count": 28,
      "outputs": [
        {
          "output_type": "stream",
          "text": [
            "bulan\n",
            "luna\n"
          ],
          "name": "stdout"
        }
      ]
    },
    {
      "cell_type": "markdown",
      "metadata": {
        "id": "ungYolY_Epif"
      },
      "source": [
        "## Conditional Expressions"
      ]
    },
    {
      "cell_type": "code",
      "metadata": {
        "colab": {
          "base_uri": "https://localhost:8080/"
        },
        "id": "Zq6kKkscE8yy",
        "outputId": "a0dc0682-4b5e-4be4-ae59-83722bd43366"
      },
      "source": [
        "utang = False\n",
        "\n",
        "print('status doi','bebas utang abang jagoo' if not utang else 'banyak utang doi tinggalin aja') \n"
      ],
      "execution_count": 29,
      "outputs": [
        {
          "output_type": "stream",
          "text": [
            "status doi bebas utang abang jagoo\n"
          ],
          "name": "stdout"
        }
      ]
    },
    {
      "cell_type": "code",
      "metadata": {
        "id": "UoJC9lSCGaOO"
      },
      "source": [
        ""
      ],
      "execution_count": 29,
      "outputs": []
    },
    {
      "cell_type": "markdown",
      "metadata": {
        "id": "tk_2E7mTG_Sj"
      },
      "source": [
        "## Pass Statement"
      ]
    },
    {
      "cell_type": "code",
      "metadata": {
        "colab": {
          "base_uri": "https://localhost:8080/"
        },
        "id": "osFi-AJ8HEO1",
        "outputId": "1d18f2d6-53e5-47ad-8c37-d7cae34aa71e"
      },
      "source": [
        "if True:\n",
        "  pass\n",
        "print('tarik sis')"
      ],
      "execution_count": 30,
      "outputs": [
        {
          "output_type": "stream",
          "text": [
            "tarik sis\n"
          ],
          "name": "stdout"
        }
      ]
    },
    {
      "cell_type": "markdown",
      "metadata": {
        "id": "ok6xs-DZIrxy"
      },
      "source": [
        "## While Looping"
      ]
    },
    {
      "cell_type": "code",
      "metadata": {
        "colab": {
          "base_uri": "https://localhost:8080/"
        },
        "id": "hGLJVvX6Iyy5",
        "outputId": "5b230ad9-9c56-4b32-b270-06d49d0d7773"
      },
      "source": [
        "saldoTabungan = 10000\n",
        "\n",
        "while saldoTabungan>0:\n",
        "  saldoTabungan -= 2000\n",
        "  print('Kamu berdonasi sebesar',saldoTabungan)"
      ],
      "execution_count": 32,
      "outputs": [
        {
          "output_type": "stream",
          "text": [
            "Kamu berdonasi sebesar 8000\n",
            "Kamu berdonasi sebesar 6000\n",
            "Kamu berdonasi sebesar 4000\n",
            "Kamu berdonasi sebesar 2000\n",
            "Kamu berdonasi sebesar 0\n"
          ],
          "name": "stdout"
        }
      ]
    },
    {
      "cell_type": "code",
      "metadata": {
        "colab": {
          "base_uri": "https://localhost:8080/"
        },
        "id": "rx2DkHH7JgFb",
        "outputId": "19f666a1-5018-421e-8a5f-517567141551"
      },
      "source": [
        "saldoTabungan = 10000\n",
        "\n",
        "while saldoTabungan<20000:\n",
        "  print('Kamu dapet bunga sebesar',saldoTabungan)\n",
        "  saldoTabungan = saldoTabungan +(saldoTabungan*0.1)"
      ],
      "execution_count": 35,
      "outputs": [
        {
          "output_type": "stream",
          "text": [
            "Kamu dapet bunga sebesar 10000\n",
            "Kamu dapet bunga sebesar 11000.0\n",
            "Kamu dapet bunga sebesar 12100.0\n",
            "Kamu dapet bunga sebesar 13310.0\n",
            "Kamu dapet bunga sebesar 14641.0\n",
            "Kamu dapet bunga sebesar 16105.1\n",
            "Kamu dapet bunga sebesar 17715.61\n",
            "Kamu dapet bunga sebesar 19487.171000000002\n"
          ],
          "name": "stdout"
        }
      ]
    },
    {
      "cell_type": "markdown",
      "metadata": {
        "id": "dicGfICWLLC9"
      },
      "source": [
        "## Break & Continue"
      ]
    },
    {
      "cell_type": "code",
      "metadata": {
        "colab": {
          "base_uri": "https://localhost:8080/"
        },
        "id": "rBd05-l_LN3L",
        "outputId": "9afd3f61-7519-453e-85d8-fb15a4abd581"
      },
      "source": [
        "saldoTabungan = 10000\n",
        "\n",
        "while saldoTabungan<=20000:\n",
        "  saldoTabungan = saldoTabungan +(saldoTabungan*0.1)\n",
        "  if saldoTabungan == 15000:\n",
        "    break\n",
        "  print('Kamu dapet bunga sebesar',saldoTabungan)\n",
        "\n",
        "print('cukup ya bunganya buat bulan ini hehe')"
      ],
      "execution_count": 42,
      "outputs": [
        {
          "output_type": "stream",
          "text": [
            "Kamu dapet bunga sebesar 11000.0\n",
            "Kamu dapet bunga sebesar 12100.0\n",
            "Kamu dapet bunga sebesar 13310.0\n",
            "Kamu dapet bunga sebesar 14641.0\n",
            "Kamu dapet bunga sebesar 16105.1\n",
            "Kamu dapet bunga sebesar 17715.61\n",
            "Kamu dapet bunga sebesar 19487.171000000002\n",
            "Kamu dapet bunga sebesar 21435.888100000004\n",
            "cukup ya bunganya buat bulan ini hehe\n"
          ],
          "name": "stdout"
        }
      ]
    },
    {
      "cell_type": "code",
      "metadata": {
        "colab": {
          "base_uri": "https://localhost:8080/"
        },
        "id": "_4RwoQ2FMHqW",
        "outputId": "ef753967-0cb9-4252-f1ae-2d37e3f5f97d"
      },
      "source": [
        "saldoTabungan = 10000\n",
        "\n",
        "while saldoTabungan<=20000:\n",
        "  saldoTabungan = saldoTabungan +(saldoTabungan*0.1)\n",
        "  if saldoTabungan == 15000:\n",
        "    continue\n",
        "  print('Kamu dapet bunga sebesar',saldoTabungan)\n",
        "\n",
        "print('cukup ya bunganya buat bulan ini hehe')"
      ],
      "execution_count": 41,
      "outputs": [
        {
          "output_type": "stream",
          "text": [
            "Kamu dapet bunga sebesar 11000.0\n",
            "Kamu dapet bunga sebesar 12100.0\n",
            "Kamu dapet bunga sebesar 13310.0\n",
            "Kamu dapet bunga sebesar 14641.0\n",
            "Kamu dapet bunga sebesar 16105.1\n",
            "Kamu dapet bunga sebesar 17715.61\n",
            "Kamu dapet bunga sebesar 19487.171000000002\n",
            "Kamu dapet bunga sebesar 21435.888100000004\n",
            "cukup ya bunganya buat bulan ini hehe\n"
          ],
          "name": "stdout"
        }
      ]
    },
    {
      "cell_type": "markdown",
      "metadata": {
        "id": "z1cnmDKhNJd3"
      },
      "source": [
        "## Nested While Loop"
      ]
    },
    {
      "cell_type": "code",
      "metadata": {
        "colab": {
          "base_uri": "https://localhost:8080/"
        },
        "id": "q1idmEumNNWx",
        "outputId": "fb835c81-4000-415e-daf9-e668239c96b2"
      },
      "source": [
        "kotak = ['harta','tahta']\n",
        "\n",
        "while len(kotak):\n",
        "  print(kotak.pop(0))\n",
        "  \n",
        "  peti = ['uang','emas']\n",
        "\n",
        "  while len(peti):\n",
        "    print('*', peti.pop(0))\n"
      ],
      "execution_count": 43,
      "outputs": [
        {
          "output_type": "stream",
          "text": [
            "harta\n",
            "* uang\n",
            "* emas\n",
            "tahta\n",
            "* uang\n",
            "* emas\n"
          ],
          "name": "stdout"
        }
      ]
    },
    {
      "cell_type": "markdown",
      "metadata": {
        "id": "1_1zI__rP1Dp"
      },
      "source": [
        "## Definite Iteration"
      ]
    },
    {
      "cell_type": "code",
      "metadata": {
        "colab": {
          "base_uri": "https://localhost:8080/"
        },
        "id": "cqYY863eP4Pq",
        "outputId": "da2a2bd1-4a34-44df-ac55-5e4954cf25ab"
      },
      "source": [
        "makanan = ['mie','soto','bakso']\n",
        "\n",
        "for i in makanan:\n",
        "  print(i)"
      ],
      "execution_count": 44,
      "outputs": [
        {
          "output_type": "stream",
          "text": [
            "mie\n",
            "soto\n",
            "bakso\n"
          ],
          "name": "stdout"
        }
      ]
    },
    {
      "cell_type": "markdown",
      "metadata": {
        "id": "KWtnUofpRgFz"
      },
      "source": [
        "## Range()"
      ]
    },
    {
      "cell_type": "code",
      "metadata": {
        "colab": {
          "base_uri": "https://localhost:8080/"
        },
        "id": "DZotTyHHRi_m",
        "outputId": "9dae7ba4-c7f1-41c6-a487-c5223c262bea"
      },
      "source": [
        "angpao = range(10)\n",
        "\n",
        "for isi in angpao:\n",
        "  print(isi)"
      ],
      "execution_count": 49,
      "outputs": [
        {
          "output_type": "stream",
          "text": [
            "0\n",
            "1\n",
            "2\n",
            "3\n",
            "4\n",
            "5\n",
            "6\n",
            "7\n",
            "8\n",
            "9\n"
          ],
          "name": "stdout"
        }
      ]
    },
    {
      "cell_type": "markdown",
      "metadata": {
        "id": "rU8N7TkISYJm"
      },
      "source": [
        "## Example"
      ]
    },
    {
      "cell_type": "code",
      "metadata": {
        "colab": {
          "base_uri": "https://localhost:8080/"
        },
        "id": "l5m_X4eUScJH",
        "outputId": "5721a31e-0bac-4321-cf07-5e703acd4a4f"
      },
      "source": [
        "temp = input('Ketikkan temperatur yang mau lo konversi, contoh 45C, 75F')"
      ],
      "execution_count": 50,
      "outputs": [
        {
          "output_type": "stream",
          "text": [
            "Ketikkan temperatur yang mau lo konversi, contoh 45C, 75F75F\n"
          ],
          "name": "stdout"
        }
      ]
    },
    {
      "cell_type": "code",
      "metadata": {
        "colab": {
          "base_uri": "https://localhost:8080/",
          "height": 35
        },
        "id": "Ldyx2cR0Smf_",
        "outputId": "fbcc6a6d-d7d2-417c-8b04-be9ebe9b8e7c"
      },
      "source": [
        "temp"
      ],
      "execution_count": 51,
      "outputs": [
        {
          "output_type": "execute_result",
          "data": {
            "application/vnd.google.colaboratory.intrinsic+json": {
              "type": "string"
            },
            "text/plain": [
              "'75F'"
            ]
          },
          "metadata": {
            "tags": []
          },
          "execution_count": 51
        }
      ]
    },
    {
      "cell_type": "code",
      "metadata": {
        "colab": {
          "base_uri": "https://localhost:8080/"
        },
        "id": "qPR6NFQBSv_h",
        "outputId": "ccb65a2a-40c7-45e8-c82b-7f22678c96a1"
      },
      "source": [
        "degree = int(temp[:-1])\n",
        "satuan = temp[-1]\n",
        "\n",
        "degree, satuan"
      ],
      "execution_count": 53,
      "outputs": [
        {
          "output_type": "execute_result",
          "data": {
            "text/plain": [
              "(75, 'F')"
            ]
          },
          "metadata": {
            "tags": []
          },
          "execution_count": 53
        }
      ]
    },
    {
      "cell_type": "code",
      "metadata": {
        "colab": {
          "base_uri": "https://localhost:8080/"
        },
        "id": "nMf7HfG1TEow",
        "outputId": "ebb58f8a-7dcb-4e30-a6d5-3e5d471ddebd"
      },
      "source": [
        "if satuan == 'C':\n",
        "  hasil = int(degree*9) /5+32\n",
        "elif satuan == 'F':\n",
        "  hasil = int((degree-32)*5/9)\n",
        "  print('Jadi hasil konversinya tuh', hasil)\n",
        "else:\n",
        "  print('salah satuan, masukin satuan yang bener dong')"
      ],
      "execution_count": 58,
      "outputs": [
        {
          "output_type": "stream",
          "text": [
            "Jadi hasil konversinya tuh 23\n"
          ],
          "name": "stdout"
        }
      ]
    }
  ]
}