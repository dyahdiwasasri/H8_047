{
  "nbformat": 4,
  "nbformat_minor": 0,
  "metadata": {
    "colab": {
      "name": "Sesi_1.ipynb",
      "provenance": []
    },
    "kernelspec": {
      "name": "python3",
      "display_name": "Python 3"
    }
  },
  "cells": [
    {
      "cell_type": "markdown",
      "metadata": {
        "id": "Em_bdhA2lKsH"
      },
      "source": [
        "# Sesi 1"
      ]
    },
    {
      "cell_type": "markdown",
      "metadata": {
        "id": "SscuwHJglSxL"
      },
      "source": [
        "## Integer"
      ]
    },
    {
      "cell_type": "code",
      "metadata": {
        "colab": {
          "base_uri": "https://localhost:8080/"
        },
        "id": "ufOJXLTnod-w",
        "outputId": "5ff52579-0f5a-4656-bcce-29e172100e1d"
      },
      "source": [
        "print(1)"
      ],
      "execution_count": 2,
      "outputs": [
        {
          "output_type": "stream",
          "text": [
            "1\n"
          ],
          "name": "stdout"
        }
      ]
    },
    {
      "cell_type": "code",
      "metadata": {
        "colab": {
          "base_uri": "https://localhost:8080/"
        },
        "id": "cmP-zk7hoj2M",
        "outputId": "8a4a0cb3-ad94-4793-c931-db8f7f55ecb0"
      },
      "source": [
        "print(type(1))"
      ],
      "execution_count": 4,
      "outputs": [
        {
          "output_type": "stream",
          "text": [
            "<class 'int'>\n"
          ],
          "name": "stdout"
        }
      ]
    },
    {
      "cell_type": "markdown",
      "metadata": {
        "id": "VecKsm45pF1Q"
      },
      "source": [
        "## Float"
      ]
    },
    {
      "cell_type": "code",
      "metadata": {
        "colab": {
          "base_uri": "https://localhost:8080/"
        },
        "id": "TiOwUlDcpDmy",
        "outputId": "818f3b19-5766-48e4-eb44-77a497eb97b5"
      },
      "source": [
        "print(4.)"
      ],
      "execution_count": 13,
      "outputs": [
        {
          "output_type": "stream",
          "text": [
            "4.0\n"
          ],
          "name": "stdout"
        }
      ]
    },
    {
      "cell_type": "code",
      "metadata": {
        "colab": {
          "base_uri": "https://localhost:8080/"
        },
        "id": "Mssndpbpq2I6",
        "outputId": "173589c8-474d-4b9a-d267-6fe20e1e0022"
      },
      "source": [
        "print(type(4.))"
      ],
      "execution_count": 18,
      "outputs": [
        {
          "output_type": "stream",
          "text": [
            "<class 'float'>\n"
          ],
          "name": "stdout"
        }
      ]
    },
    {
      "cell_type": "code",
      "metadata": {
        "colab": {
          "base_uri": "https://localhost:8080/"
        },
        "id": "VorjMfxFpa3P",
        "outputId": "49421d5f-25ca-4ea7-cd74-b8b6036a5f34"
      },
      "source": [
        "print(.2)"
      ],
      "execution_count": 14,
      "outputs": [
        {
          "output_type": "stream",
          "text": [
            "0.2\n"
          ],
          "name": "stdout"
        }
      ]
    },
    {
      "cell_type": "code",
      "metadata": {
        "colab": {
          "base_uri": "https://localhost:8080/"
        },
        "id": "VdVEiGQ3pdHB",
        "outputId": "3b473a76-ea6d-4bed-8052-3c7771a012fb"
      },
      "source": [
        "print(.4e7)"
      ],
      "execution_count": 7,
      "outputs": [
        {
          "output_type": "stream",
          "text": [
            "4000000.0\n"
          ],
          "name": "stdout"
        }
      ]
    },
    {
      "cell_type": "code",
      "metadata": {
        "colab": {
          "base_uri": "https://localhost:8080/"
        },
        "id": "rFTa-JpkpgtV",
        "outputId": "88f16277-d61a-4098-9721-c991e7be17c5"
      },
      "source": [
        "print(4.2e-4)"
      ],
      "execution_count": 15,
      "outputs": [
        {
          "output_type": "stream",
          "text": [
            "0.00042\n"
          ],
          "name": "stdout"
        }
      ]
    },
    {
      "cell_type": "markdown",
      "metadata": {
        "id": "t2grQN4UprfM"
      },
      "source": [
        "## String"
      ]
    },
    {
      "cell_type": "code",
      "metadata": {
        "colab": {
          "base_uri": "https://localhost:8080/"
        },
        "id": "8L-onAV7pjfs",
        "outputId": "e2887172-cf23-49e5-bd0e-4a506319bd2b"
      },
      "source": [
        "print('Sasri')"
      ],
      "execution_count": 9,
      "outputs": [
        {
          "output_type": "stream",
          "text": [
            "Sasri\n"
          ],
          "name": "stdout"
        }
      ]
    },
    {
      "cell_type": "code",
      "metadata": {
        "colab": {
          "base_uri": "https://localhost:8080/"
        },
        "id": "19SFtv7Jp83b",
        "outputId": "a4420720-2f5d-4241-c4d7-dc5fab266f3a"
      },
      "source": [
        "print(type('Sasri'))"
      ],
      "execution_count": 10,
      "outputs": [
        {
          "output_type": "stream",
          "text": [
            "<class 'str'>\n"
          ],
          "name": "stdout"
        }
      ]
    },
    {
      "cell_type": "code",
      "metadata": {
        "colab": {
          "base_uri": "https://localhost:8080/"
        },
        "id": "xFjzNab1p_Sv",
        "outputId": "9bdea7ee-c512-4902-acec-28559a6f7320"
      },
      "source": [
        "print('Hello(\")')"
      ],
      "execution_count": 17,
      "outputs": [
        {
          "output_type": "stream",
          "text": [
            "Hello(\")\n"
          ],
          "name": "stdout"
        }
      ]
    },
    {
      "cell_type": "markdown",
      "metadata": {
        "id": "bc6-MCLzqnPR"
      },
      "source": [
        "## Boolean"
      ]
    },
    {
      "cell_type": "code",
      "metadata": {
        "colab": {
          "base_uri": "https://localhost:8080/"
        },
        "id": "KeUiEd8wqqtu",
        "outputId": "ee9db47a-3c4f-43ca-eb55-7fa40c04bb22"
      },
      "source": [
        "print(type(True))"
      ],
      "execution_count": 19,
      "outputs": [
        {
          "output_type": "stream",
          "text": [
            "<class 'bool'>\n"
          ],
          "name": "stdout"
        }
      ]
    },
    {
      "cell_type": "code",
      "metadata": {
        "colab": {
          "base_uri": "https://localhost:8080/"
        },
        "id": "NxPn9KV3rr4L",
        "outputId": "de9c9946-3d6c-4eb4-b4d2-33a1bd85e43c"
      },
      "source": [
        "print(type(False))"
      ],
      "execution_count": 20,
      "outputs": [
        {
          "output_type": "stream",
          "text": [
            "<class 'bool'>\n"
          ],
          "name": "stdout"
        }
      ]
    },
    {
      "cell_type": "markdown",
      "metadata": {
        "id": "BvFSdatxr9_c"
      },
      "source": [
        "## Variable Assignment"
      ]
    },
    {
      "cell_type": "code",
      "metadata": {
        "id": "5QxIrdhVsQaA"
      },
      "source": [
        "n=300"
      ],
      "execution_count": 21,
      "outputs": []
    },
    {
      "cell_type": "code",
      "metadata": {
        "colab": {
          "base_uri": "https://localhost:8080/"
        },
        "id": "DbDIGHtRsTKH",
        "outputId": "de9e4660-1a0e-4874-d07e-8b72eebb1387"
      },
      "source": [
        "print(n)"
      ],
      "execution_count": 22,
      "outputs": [
        {
          "output_type": "stream",
          "text": [
            "300\n"
          ],
          "name": "stdout"
        }
      ]
    },
    {
      "cell_type": "code",
      "metadata": {
        "colab": {
          "base_uri": "https://localhost:8080/"
        },
        "id": "dklmpcKJsUIg",
        "outputId": "57fce066-e9c3-4942-efbf-052ca58c7ea8"
      },
      "source": [
        "n"
      ],
      "execution_count": 23,
      "outputs": [
        {
          "output_type": "execute_result",
          "data": {
            "text/plain": [
              "300"
            ]
          },
          "metadata": {
            "tags": []
          },
          "execution_count": 23
        }
      ]
    },
    {
      "cell_type": "code",
      "metadata": {
        "id": "SvGVI11KsYjO"
      },
      "source": [
        "n=1000"
      ],
      "execution_count": 26,
      "outputs": []
    },
    {
      "cell_type": "code",
      "metadata": {
        "colab": {
          "base_uri": "https://localhost:8080/"
        },
        "id": "zCMqTkOzsdcj",
        "outputId": "49a0909d-4b8c-4742-ac86-93460d195698"
      },
      "source": [
        "print(n)"
      ],
      "execution_count": 27,
      "outputs": [
        {
          "output_type": "stream",
          "text": [
            "1000\n"
          ],
          "name": "stdout"
        }
      ]
    },
    {
      "cell_type": "code",
      "metadata": {
        "id": "32Eks10SsiXa"
      },
      "source": [
        "n=1000+2"
      ],
      "execution_count": 28,
      "outputs": []
    },
    {
      "cell_type": "code",
      "metadata": {
        "colab": {
          "base_uri": "https://localhost:8080/"
        },
        "id": "YBDte8Eosnj2",
        "outputId": "485a0348-a0e6-40d8-9321-664046fea904"
      },
      "source": [
        "print(n)"
      ],
      "execution_count": 29,
      "outputs": [
        {
          "output_type": "stream",
          "text": [
            "1002\n"
          ],
          "name": "stdout"
        }
      ]
    },
    {
      "cell_type": "code",
      "metadata": {
        "id": "3PcBhZ45sorG"
      },
      "source": [
        "a = b = 300"
      ],
      "execution_count": 30,
      "outputs": []
    },
    {
      "cell_type": "code",
      "metadata": {
        "colab": {
          "base_uri": "https://localhost:8080/"
        },
        "id": "pc-SewiwtBuR",
        "outputId": "b5853055-5b27-4f07-8a8c-5304ac5f2561"
      },
      "source": [
        "print(a,b,n)"
      ],
      "execution_count": 32,
      "outputs": [
        {
          "output_type": "stream",
          "text": [
            "300 300 1002\n"
          ],
          "name": "stdout"
        }
      ]
    },
    {
      "cell_type": "markdown",
      "metadata": {
        "id": "WvuFc6YftZzL"
      },
      "source": [
        "## Variable Types in Python"
      ]
    },
    {
      "cell_type": "code",
      "metadata": {
        "id": "4TxZnACmtkct"
      },
      "source": [
        "var=28"
      ],
      "execution_count": 33,
      "outputs": []
    },
    {
      "cell_type": "code",
      "metadata": {
        "colab": {
          "base_uri": "https://localhost:8080/"
        },
        "id": "abUygGFWuCzw",
        "outputId": "d10e5724-1740-4f0e-b1ef-a7d1ca593786"
      },
      "source": [
        "print(var)"
      ],
      "execution_count": 34,
      "outputs": [
        {
          "output_type": "stream",
          "text": [
            "28\n"
          ],
          "name": "stdout"
        }
      ]
    },
    {
      "cell_type": "code",
      "metadata": {
        "id": "hi8rWWaiuDea"
      },
      "source": [
        "var='Berubah jadi string dong beb'"
      ],
      "execution_count": 35,
      "outputs": []
    },
    {
      "cell_type": "code",
      "metadata": {
        "colab": {
          "base_uri": "https://localhost:8080/"
        },
        "id": "L4avfOrPuHRB",
        "outputId": "19aca7e0-0b97-4503-95ed-e23392fcde15"
      },
      "source": [
        "print(var)"
      ],
      "execution_count": 36,
      "outputs": [
        {
          "output_type": "stream",
          "text": [
            "Berubah jadi string dong beb\n"
          ],
          "name": "stdout"
        }
      ]
    },
    {
      "cell_type": "markdown",
      "metadata": {
        "id": "cA9Np9tcuNa4"
      },
      "source": [
        "## Variable Names"
      ]
    },
    {
      "cell_type": "code",
      "metadata": {
        "id": "psCKRHPZuU2b"
      },
      "source": [
        "nama = 'Ragnarok'"
      ],
      "execution_count": 38,
      "outputs": []
    },
    {
      "cell_type": "code",
      "metadata": {
        "id": "ESMH2S8YxJjC"
      },
      "source": [
        "Umur = 99"
      ],
      "execution_count": 42,
      "outputs": []
    },
    {
      "cell_type": "code",
      "metadata": {
        "id": "Dfhui5ooxMFc"
      },
      "source": [
        "has_bcc = True"
      ],
      "execution_count": 51,
      "outputs": []
    },
    {
      "cell_type": "code",
      "metadata": {
        "colab": {
          "base_uri": "https://localhost:8080/"
        },
        "id": "lrIUgjSJxOwZ",
        "outputId": "6abd2665-7531-4047-dda9-54e2e3924318"
      },
      "source": [
        "print(nama,Umur, has_bcc)"
      ],
      "execution_count": 52,
      "outputs": [
        {
          "output_type": "stream",
          "text": [
            "Ragnarok 99 True\n"
          ],
          "name": "stdout"
        }
      ]
    },
    {
      "cell_type": "code",
      "metadata": {
        "id": "r3iN1HiEyRbj"
      },
      "source": [
        "NamaKamuSiapa = 100\n",
        "namaKamuSiapa = 200\n",
        "nama_kamu_siapa = 300"
      ],
      "execution_count": 45,
      "outputs": []
    },
    {
      "cell_type": "code",
      "metadata": {
        "colab": {
          "base_uri": "https://localhost:8080/"
        },
        "id": "d4e0GiU5xWFb",
        "outputId": "0c92e9f5-490a-413a-d642-1a6dfe19c6c8"
      },
      "source": [
        "print(NamaKamuSiapa, namaKamuSiapa, nama_kamu_siapa)"
      ],
      "execution_count": 46,
      "outputs": [
        {
          "output_type": "stream",
          "text": [
            "100 200 300\n"
          ],
          "name": "stdout"
        }
      ]
    },
    {
      "cell_type": "markdown",
      "metadata": {
        "id": "BYBYKB46ymvq"
      },
      "source": [
        "## Operators & Expressions"
      ]
    },
    {
      "cell_type": "code",
      "metadata": {
        "colab": {
          "base_uri": "https://localhost:8080/"
        },
        "id": "Vh9Q9QviysOr",
        "outputId": "3d49f5c0-41b6-4a99-a399-ec66a58ef58c"
      },
      "source": [
        "tempe = 10\n",
        "tahu = 20\n",
        "tempe + tahu"
      ],
      "execution_count": 50,
      "outputs": [
        {
          "output_type": "execute_result",
          "data": {
            "text/plain": [
              "30"
            ]
          },
          "metadata": {
            "tags": []
          },
          "execution_count": 50
        }
      ]
    },
    {
      "cell_type": "code",
      "metadata": {
        "colab": {
          "base_uri": "https://localhost:8080/"
        },
        "id": "xYYfMawgy2SX",
        "outputId": "69a5108d-503f-480d-f1f5-6354d3467218"
      },
      "source": [
        "tempe + tahu -5"
      ],
      "execution_count": 49,
      "outputs": [
        {
          "output_type": "execute_result",
          "data": {
            "text/plain": [
              "25"
            ]
          },
          "metadata": {
            "tags": []
          },
          "execution_count": 49
        }
      ]
    },
    {
      "cell_type": "markdown",
      "metadata": {
        "id": "CKbjiaSnzWwo"
      },
      "source": [
        "## Arithmetic Operators"
      ]
    },
    {
      "cell_type": "code",
      "metadata": {
        "colab": {
          "base_uri": "https://localhost:8080/"
        },
        "id": "k_KU_3iCzgda",
        "outputId": "be9f4694-afd4-4768-803a-75af1a999203"
      },
      "source": [
        "print(tahu+tempe)\n",
        "print(tahu-tempe)\n",
        "print(tahu*tempe)\n",
        "print(tahu/tempe)\n",
        "print(tahu%tempe)\n",
        "print(tahu**tempe)"
      ],
      "execution_count": 55,
      "outputs": [
        {
          "output_type": "stream",
          "text": [
            "30\n",
            "10\n",
            "200\n",
            "2.0\n",
            "0\n",
            "10240000000000\n"
          ],
          "name": "stdout"
        }
      ]
    },
    {
      "cell_type": "markdown",
      "metadata": {
        "id": "lUGyssjY0CbW"
      },
      "source": [
        "## Comparison Operators"
      ]
    },
    {
      "cell_type": "markdown",
      "metadata": {
        "id": "RX0o2V9s0D24"
      },
      "source": [
        ""
      ]
    },
    {
      "cell_type": "code",
      "metadata": {
        "colab": {
          "base_uri": "https://localhost:8080/"
        },
        "id": "hBdLN6nL0JmO",
        "outputId": "8313d569-7618-4c4a-8f54-29ae08e51009"
      },
      "source": [
        "print(tahu==tempe)\n",
        "print(tahu!=tempe)\n",
        "print(tahu<=tempe)\n",
        "print(tahu>=tempe)"
      ],
      "execution_count": 57,
      "outputs": [
        {
          "output_type": "stream",
          "text": [
            "False\n",
            "True\n",
            "False\n"
          ],
          "name": "stdout"
        }
      ]
    },
    {
      "cell_type": "markdown",
      "metadata": {
        "id": "T-EOLqeS0dar"
      },
      "source": [
        "## String Manipulation"
      ]
    },
    {
      "cell_type": "code",
      "metadata": {
        "colab": {
          "base_uri": "https://localhost:8080/"
        },
        "id": "r1n9NYLp0gyp",
        "outputId": "cb7235b1-516e-4a27-b028-92f15883b2ff"
      },
      "source": [
        "s='emak'\n",
        "t='bapak'\n",
        "u='anak'\n",
        "\n",
        "print(s+t)\n",
        "print(s+t+u)\n",
        "print('Siapa kaliaaaaan?' + ' Jawabannyaaa')\n",
        "print (s+' '+t+' '+u)"
      ],
      "execution_count": 61,
      "outputs": [
        {
          "output_type": "stream",
          "text": [
            "emakbapak\n",
            "emakbapakanak\n",
            "Siapa kaliaaaaan? Jawabannyaaa\n",
            "emak bapak anak\n"
          ],
          "name": "stdout"
        }
      ]
    },
    {
      "cell_type": "code",
      "metadata": {
        "colab": {
          "base_uri": "https://localhost:8080/",
          "height": 35
        },
        "id": "-kyzSekj1FnL",
        "outputId": "9b803794-ea57-493d-893b-8c12a7605ada"
      },
      "source": [
        "so='ha'\n",
        "so*4"
      ],
      "execution_count": 74,
      "outputs": [
        {
          "output_type": "execute_result",
          "data": {
            "application/vnd.google.colaboratory.intrinsic+json": {
              "type": "string"
            },
            "text/plain": [
              "'hahahaha'"
            ]
          },
          "metadata": {
            "tags": []
          },
          "execution_count": 74
        }
      ]
    },
    {
      "cell_type": "code",
      "metadata": {
        "colab": {
          "base_uri": "https://localhost:8080/"
        },
        "id": "SM5jJC0k1f0B",
        "outputId": "b295a513-43ce-447e-b34c-6360a3b28b7c"
      },
      "source": [
        "print (so in 'hallucination')"
      ],
      "execution_count": 76,
      "outputs": [
        {
          "output_type": "stream",
          "text": [
            "True\n"
          ],
          "name": "stdout"
        }
      ]
    },
    {
      "cell_type": "code",
      "metadata": {
        "colab": {
          "base_uri": "https://localhost:8080/"
        },
        "id": "2CqT9E7k2L67",
        "outputId": "33812b9c-e504-4634-d8ea-6e52d1ec9c42"
      },
      "source": [
        "sos = 'SolongandG00dby3'\n",
        "#Capitalize\n",
        "print(sos.capitalize())\n",
        "print(sos.lower())\n",
        "print(sos.swapcase())\n",
        "print(sos.upper())\n"
      ],
      "execution_count": 73,
      "outputs": [
        {
          "output_type": "stream",
          "text": [
            "Solongandg00dby3\n",
            "solongandg00dby3\n",
            "sOLONGANDg00DBY3\n",
            "SOLONGANDG00DBY3\n"
          ],
          "name": "stdout"
        }
      ]
    },
    {
      "cell_type": "markdown",
      "metadata": {
        "id": "Qs0j3W0Z3kyD"
      },
      "source": [
        "## Phyton Lists"
      ]
    },
    {
      "cell_type": "code",
      "metadata": {
        "colab": {
          "base_uri": "https://localhost:8080/"
        },
        "id": "3djrrh343m68",
        "outputId": "f6cfe749-f2b4-4f49-921a-a44b16214df2"
      },
      "source": [
        "food = ['indomie','martabak','dimsum']\n",
        "print(food)"
      ],
      "execution_count": 77,
      "outputs": [
        {
          "output_type": "stream",
          "text": [
            "['indomie', 'martabak', 'dimsum']\n"
          ],
          "name": "stdout"
        }
      ]
    },
    {
      "cell_type": "markdown",
      "metadata": {
        "id": "AwWLzCpu365p"
      },
      "source": [
        "### List Are Ordered"
      ]
    },
    {
      "cell_type": "code",
      "metadata": {
        "colab": {
          "base_uri": "https://localhost:8080/"
        },
        "id": "Hf2lJrzO3-br",
        "outputId": "a3d6ca66-3945-4840-b3ee-1680802e16a7"
      },
      "source": [
        "food2 = ['indomie','martabak','dimsum']\n",
        "food3 = ['martabak','dimsum','indomie']\n",
        "food2 == food3"
      ],
      "execution_count": 81,
      "outputs": [
        {
          "output_type": "execute_result",
          "data": {
            "text/plain": [
              "False"
            ]
          },
          "metadata": {
            "tags": []
          },
          "execution_count": 81
        }
      ]
    },
    {
      "cell_type": "markdown",
      "metadata": {
        "id": "kdh8Nt6H4mO4"
      },
      "source": [
        "### List Can Contain Arbitrary Objects"
      ]
    },
    {
      "cell_type": "code",
      "metadata": {
        "colab": {
          "base_uri": "https://localhost:8080/"
        },
        "id": "hDweaZEb4Xrr",
        "outputId": "44d44049-0e9b-4d02-a097-9a06af9107ed"
      },
      "source": [
        "soto = [5000,'sotogebraaaak',3,5,'satekulit',False,2.45957]\n",
        "print(soto)\n"
      ],
      "execution_count": 82,
      "outputs": [
        {
          "output_type": "stream",
          "text": [
            "[5000, 'sotogebraaaak', 3, 5, 'satekulit', False, 2.45957]\n"
          ],
          "name": "stdout"
        }
      ]
    },
    {
      "cell_type": "markdown",
      "metadata": {
        "id": "RZbimwMY5CAE"
      },
      "source": [
        "### List Elements Can Be Accessed by Index"
      ]
    },
    {
      "cell_type": "code",
      "metadata": {
        "colab": {
          "base_uri": "https://localhost:8080/"
        },
        "id": "IuR9TA-y5KGl",
        "outputId": "f69051ff-9afb-4bb3-dced-c6ef5fc94926"
      },
      "source": [
        "food = ['indomie','martabak','dimsum','lumpiabasah','telordadar']\n",
        "print(food[2])\n",
        "print(food[0])\n",
        "print(food[-1])"
      ],
      "execution_count": 90,
      "outputs": [
        {
          "output_type": "stream",
          "text": [
            "dimsum\n",
            "indomie\n",
            "telordadar\n"
          ],
          "name": "stdout"
        }
      ]
    },
    {
      "cell_type": "code",
      "metadata": {
        "colab": {
          "base_uri": "https://localhost:8080/"
        },
        "id": "9xAaGEoz5Rs3",
        "outputId": "5b2d3288-32b2-471c-fa60-23d3baff16d9"
      },
      "source": [
        "food[2:4]"
      ],
      "execution_count": 91,
      "outputs": [
        {
          "output_type": "execute_result",
          "data": {
            "text/plain": [
              "['dimsum', 'lumpiabasah']"
            ]
          },
          "metadata": {
            "tags": []
          },
          "execution_count": 91
        }
      ]
    },
    {
      "cell_type": "code",
      "metadata": {
        "colab": {
          "base_uri": "https://localhost:8080/"
        },
        "id": "0WmKlmjh5p4e",
        "outputId": "c20c8ec1-6c92-4625-df38-794a2a706802"
      },
      "source": [
        "print(food)\n",
        "print(food+['satekambing','tahugejrot'])\n",
        "print(food*2)"
      ],
      "execution_count": 95,
      "outputs": [
        {
          "output_type": "stream",
          "text": [
            "['indomie', 'martabak', 'dimsum', 'lumpiabasah', 'telordadar']\n",
            "['indomie', 'martabak', 'dimsum', 'lumpiabasah', 'telordadar', 'satekambing', 'tahugejrot']\n",
            "['indomie', 'martabak', 'dimsum', 'lumpiabasah', 'telordadar', 'indomie', 'martabak', 'dimsum', 'lumpiabasah', 'telordadar']\n"
          ],
          "name": "stdout"
        }
      ]
    },
    {
      "cell_type": "code",
      "metadata": {
        "colab": {
          "base_uri": "https://localhost:8080/"
        },
        "id": "g9dht0bI6Sv2",
        "outputId": "c66e43dd-9695-4a40-a681-b37eb5f3be2d"
      },
      "source": [
        "print(food)\n",
        "print(len(food))\n",
        "print(min(food))\n",
        "print(max(food))"
      ],
      "execution_count": 97,
      "outputs": [
        {
          "output_type": "stream",
          "text": [
            "['indomie', 'martabak', 'dimsum', 'lumpiabasah', 'telordadar']\n",
            "5\n",
            "dimsum\n",
            "telordadar\n"
          ],
          "name": "stdout"
        }
      ]
    },
    {
      "cell_type": "markdown",
      "metadata": {
        "id": "LhxmbKU47_0N"
      },
      "source": [
        "### Modifying a Single List Value"
      ]
    },
    {
      "cell_type": "code",
      "metadata": {
        "colab": {
          "base_uri": "https://localhost:8080/"
        },
        "id": "vJ7uQj878H3g",
        "outputId": "51fd32f3-81dc-4869-a1fd-813d1b950302"
      },
      "source": [
        "food = ['indomie','martabak','dimsum','lumpiabasah','telordadar']\n",
        "print(food)\n",
        "food[1]='rendang'\n",
        "food[-2]='bakso'\n",
        "print(food)"
      ],
      "execution_count": 98,
      "outputs": [
        {
          "output_type": "stream",
          "text": [
            "['indomie', 'martabak', 'dimsum', 'lumpiabasah', 'telordadar']\n",
            "['indomie', 'rendang', 'dimsum', 'bakso', 'telordadar']\n"
          ],
          "name": "stdout"
        }
      ]
    },
    {
      "cell_type": "code",
      "metadata": {
        "colab": {
          "base_uri": "https://localhost:8080/"
        },
        "id": "n8utu6uJ8hCD",
        "outputId": "a1cdab69-0896-4ced-d69f-c500757dde09"
      },
      "source": [
        "food = ['indomie','martabak','dimsum','lumpiabasah','telordadar']\n",
        "del food[1]\n",
        "print(food)"
      ],
      "execution_count": 107,
      "outputs": [
        {
          "output_type": "stream",
          "text": [
            "['indomie', 'dimsum', 'lumpiabasah', 'telordadar']\n"
          ],
          "name": "stdout"
        }
      ]
    },
    {
      "cell_type": "markdown",
      "metadata": {
        "id": "eCKBC3XI9P_X"
      },
      "source": [
        "### Modifying Multiple List Values"
      ]
    },
    {
      "cell_type": "code",
      "metadata": {
        "colab": {
          "base_uri": "https://localhost:8080/"
        },
        "id": "GBgsm1Ix9UO7",
        "outputId": "a962e957-bd1d-4240-d2cd-76d1762b7d67"
      },
      "source": [
        "food = ['indomie','martabak','dimsum','lumpiabasah','telordadar']\n",
        "print(food[1:3])\n",
        "food[1:3]=[1.1,2.2,3.3]\n",
        "print(food)\n"
      ],
      "execution_count": 110,
      "outputs": [
        {
          "output_type": "stream",
          "text": [
            "['martabak', 'dimsum']\n",
            "['indomie', 1.1, 2.2, 3.3, 'lumpiabasah', 'telordadar']\n"
          ],
          "name": "stdout"
        }
      ]
    },
    {
      "cell_type": "markdown",
      "metadata": {
        "id": "5RJhMlcyBRxp"
      },
      "source": [
        "## Phyton Tuples"
      ]
    },
    {
      "cell_type": "code",
      "metadata": {
        "colab": {
          "base_uri": "https://localhost:8080/"
        },
        "id": "8_ngqleCBV1g",
        "outputId": "ee25ddf8-8ace-412d-d469-d5ca002b29d5"
      },
      "source": [
        "TuplesFood = ('indomie','martabak','dimsum','lumpiabasah','telordadar')\n",
        "print(TuplesFood)"
      ],
      "execution_count": 112,
      "outputs": [
        {
          "output_type": "stream",
          "text": [
            "('indomie', 'martabak', 'dimsum', 'lumpiabasah', 'telordadar')\n"
          ],
          "name": "stdout"
        }
      ]
    },
    {
      "cell_type": "code",
      "metadata": {
        "colab": {
          "base_uri": "https://localhost:8080/"
        },
        "id": "GoKMmv_rB1P8",
        "outputId": "05b381cc-ea41-41c3-ae94-1b0348a5a2f5"
      },
      "source": [
        "print(TuplesFood[0])\n",
        "print(TuplesFood[-1])"
      ],
      "execution_count": 113,
      "outputs": [
        {
          "output_type": "stream",
          "text": [
            "indomie\n",
            "telordadar\n"
          ],
          "name": "stdout"
        }
      ]
    },
    {
      "cell_type": "code",
      "metadata": {
        "colab": {
          "base_uri": "https://localhost:8080/",
          "height": 35
        },
        "id": "AO5rVnqnB_8y",
        "outputId": "b1359cb7-044b-442f-cdca-2ecc27a16e0e"
      },
      "source": [
        "(t1,t2,t3,t4,t5)=('indomie','martabak','dimsum','lumpiabasah','telordadar')\n",
        "t1"
      ],
      "execution_count": 114,
      "outputs": [
        {
          "output_type": "execute_result",
          "data": {
            "application/vnd.google.colaboratory.intrinsic+json": {
              "type": "string"
            },
            "text/plain": [
              "'indomie'"
            ]
          },
          "metadata": {
            "tags": []
          },
          "execution_count": 114
        }
      ]
    },
    {
      "cell_type": "markdown",
      "metadata": {
        "id": "_AqJTkedCNV9"
      },
      "source": [
        "Phyton Dictionary"
      ]
    },
    {
      "cell_type": "code",
      "metadata": {
        "id": "w41cnoP1CQ13"
      },
      "source": [
        "FoodFestival={\n",
        "    'Indomie' : 'Goreng',\n",
        "    'Bakso' : 'Urat',\n",
        "    'Martabak': 'Manis'\n",
        "}"
      ],
      "execution_count": 118,
      "outputs": []
    },
    {
      "cell_type": "markdown",
      "metadata": {
        "id": "9h8VCxtFDN3_"
      },
      "source": [
        "### Accessing Dictionary Values"
      ]
    },
    {
      "cell_type": "code",
      "metadata": {
        "colab": {
          "base_uri": "https://localhost:8080/"
        },
        "id": "FDROyfMvDQ5t",
        "outputId": "87bdd307-0589-42aa-f9dd-9e4e42636ce8"
      },
      "source": [
        "print(FoodFestival['Indomie'])"
      ],
      "execution_count": 119,
      "outputs": [
        {
          "output_type": "stream",
          "text": [
            "Goreng\n"
          ],
          "name": "stdout"
        }
      ]
    },
    {
      "cell_type": "code",
      "metadata": {
        "colab": {
          "base_uri": "https://localhost:8080/"
        },
        "id": "9cfM4FqcDrHN",
        "outputId": "001e829c-ca23-453b-f7b7-480fab2968b4"
      },
      "source": [
        "FoodFestival['Dimsum']='Hakau'\n",
        "FoodFestival"
      ],
      "execution_count": 120,
      "outputs": [
        {
          "output_type": "execute_result",
          "data": {
            "text/plain": [
              "{'Bakso': 'Urat', 'Dimsum': 'Hakau', 'Indomie': 'Goreng', 'Martabak': 'Manis'}"
            ]
          },
          "metadata": {
            "tags": []
          },
          "execution_count": 120
        }
      ]
    },
    {
      "cell_type": "code",
      "metadata": {
        "colab": {
          "base_uri": "https://localhost:8080/"
        },
        "id": "UlwKRIQUD2vK",
        "outputId": "a6715c66-418e-4852-a264-abd0e94cad8f"
      },
      "source": [
        "FoodFestival['Martabak']='Asin'\n",
        "FoodFestival"
      ],
      "execution_count": 121,
      "outputs": [
        {
          "output_type": "execute_result",
          "data": {
            "text/plain": [
              "{'Bakso': 'Urat', 'Dimsum': 'Hakau', 'Indomie': 'Goreng', 'Martabak': 'Asin'}"
            ]
          },
          "metadata": {
            "tags": []
          },
          "execution_count": 121
        }
      ]
    },
    {
      "cell_type": "code",
      "metadata": {
        "colab": {
          "base_uri": "https://localhost:8080/"
        },
        "id": "6iEmaKSDEGkd",
        "outputId": "02f7dd67-3729-4f4c-c946-14958bfd5418"
      },
      "source": [
        "del FoodFestival['Dimsum']\n",
        "FoodFestival"
      ],
      "execution_count": 122,
      "outputs": [
        {
          "output_type": "execute_result",
          "data": {
            "text/plain": [
              "{'Bakso': 'Urat', 'Indomie': 'Goreng', 'Martabak': 'Asin'}"
            ]
          },
          "metadata": {
            "tags": []
          },
          "execution_count": 122
        }
      ]
    },
    {
      "cell_type": "markdown",
      "metadata": {
        "id": "ZdJIsvblERlS"
      },
      "source": [
        "### Building a Dictionary Incrementally"
      ]
    },
    {
      "cell_type": "code",
      "metadata": {
        "colab": {
          "base_uri": "https://localhost:8080/"
        },
        "id": "Jp5aPmvlEVrS",
        "outputId": "83da4980-2a91-4145-bb00-aed0e821f2dd"
      },
      "source": [
        "Talent={}\n",
        "type(Talent)"
      ],
      "execution_count": 123,
      "outputs": [
        {
          "output_type": "execute_result",
          "data": {
            "text/plain": [
              "dict"
            ]
          },
          "metadata": {
            "tags": []
          },
          "execution_count": 123
        }
      ]
    },
    {
      "cell_type": "code",
      "metadata": {
        "colab": {
          "base_uri": "https://localhost:8080/"
        },
        "id": "1_LrzAG0FIVI",
        "outputId": "9d3e8af6-1faa-445c-bc93-fef70f2a5c16"
      },
      "source": [
        "Talent['fname']='Kai'\n",
        "Talent['lname']='Deverra'\n",
        "Talent['age']=29\n",
        "Talent['ability']=['Dance','Rap','Sing']\n",
        "Talent['favofoodie']={'indomie':'AyamBawang','bakso':'urat','martabak':'KejuPandan'}\n",
        "\n",
        "Talent"
      ],
      "execution_count": 125,
      "outputs": [
        {
          "output_type": "execute_result",
          "data": {
            "text/plain": [
              "{'ability': ['Dance', 'Rap', 'Sing'],\n",
              " 'age': 29,\n",
              " 'favofoodie': {'bakso': 'urat',\n",
              "  'indomie': 'AyamBawang',\n",
              "  'martabak': 'KejuPandan'},\n",
              " 'fname': 'Kai',\n",
              " 'lname': 'Deverra'}"
            ]
          },
          "metadata": {
            "tags": []
          },
          "execution_count": 125
        }
      ]
    },
    {
      "cell_type": "code",
      "metadata": {
        "colab": {
          "base_uri": "https://localhost:8080/"
        },
        "id": "7VbUV3XMIwP0",
        "outputId": "af4afe38-2c0b-4524-b0bb-527a389b3c98"
      },
      "source": [
        "print(Talent['fname'])\n",
        "print(Talent['ability'])\n",
        "print(Talent['ability'][1])"
      ],
      "execution_count": 131,
      "outputs": [
        {
          "output_type": "stream",
          "text": [
            "Kai\n",
            "['Dance', 'Rap', 'Sing']\n",
            "Rap\n"
          ],
          "name": "stdout"
        }
      ]
    },
    {
      "cell_type": "code",
      "metadata": {
        "colab": {
          "base_uri": "https://localhost:8080/"
        },
        "id": "QR72emOPJKgB",
        "outputId": "6bf6ef67-ffff-4e9d-a9f7-9b13187ef977"
      },
      "source": [
        "print(Talent['favofoodie'])\n",
        "print(Talent['favofoodie']['indomie'])"
      ],
      "execution_count": 134,
      "outputs": [
        {
          "output_type": "stream",
          "text": [
            "{'indomie': 'AyamBawang', 'bakso': 'urat', 'martabak': 'KejuPandan'}\n",
            "AyamBawang\n"
          ],
          "name": "stdout"
        }
      ]
    },
    {
      "cell_type": "code",
      "metadata": {
        "colab": {
          "base_uri": "https://localhost:8080/"
        },
        "id": "xeqCqG5pJsKn",
        "outputId": "6d78e963-7fed-4d62-958f-fc13649a61a6"
      },
      "source": [
        "TuplesTalent = {'nama':'mangoleh','umur':67,'rasa':'biasa'}\n",
        "print(TuplesTalent.items())\n",
        "print(TuplesTalent.keys())\n",
        "print(TuplesTalent.values())"
      ],
      "execution_count": 136,
      "outputs": [
        {
          "output_type": "stream",
          "text": [
            "dict_items([('nama', 'mangoleh'), ('umur', 67), ('rasa', 'biasa')])\n",
            "dict_keys(['nama', 'umur', 'rasa'])\n",
            "dict_values(['mangoleh', 67, 'biasa'])\n"
          ],
          "name": "stdout"
        }
      ]
    },
    {
      "cell_type": "markdown",
      "metadata": {
        "id": "MPaKTopnKcUX"
      },
      "source": [
        "## Line Continuation"
      ]
    },
    {
      "cell_type": "code",
      "metadata": {
        "colab": {
          "base_uri": "https://localhost:8080/"
        },
        "id": "yEh28grnKfWA",
        "outputId": "4b4a7188-93bf-4578-8e77-02ecbf6ca29f"
      },
      "source": [
        "talent1_age = 20\n",
        "talent2_age = 26\n",
        "talent3_age = 31\n",
        "\n",
        "talent_is_of_debut_age = (\n",
        "    (talent1_age >=18 and talent1_age <=25)\n",
        "    or (talent2_age >=18 and talent2_age <=25)\n",
        "    or (talent3_age >=18 and talent3_age <=25)\n",
        ")\n",
        "\n",
        "talent_is_of_debut_age"
      ],
      "execution_count": 139,
      "outputs": [
        {
          "output_type": "execute_result",
          "data": {
            "text/plain": [
              "True"
            ]
          },
          "metadata": {
            "tags": []
          },
          "execution_count": 139
        }
      ]
    },
    {
      "cell_type": "code",
      "metadata": {
        "id": "KSED5h5JLajr"
      },
      "source": [
        ""
      ],
      "execution_count": null,
      "outputs": []
    },
    {
      "cell_type": "markdown",
      "metadata": {
        "id": "_ff7KnxcMePO"
      },
      "source": [
        "## To Do\n",
        "\n",
        "1. Download & Install Anaconda\n",
        "2. Donwload File ipynb\n",
        "3. Download Git\n",
        "4. Sign up Git\n",
        "\n",
        "\n",
        "\n"
      ]
    }
  ]
}