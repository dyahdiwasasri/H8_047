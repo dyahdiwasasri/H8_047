{
 "cells": [
  {
   "cell_type": "markdown",
   "id": "technological-heading",
   "metadata": {},
   "source": [
    "<h1 align=center><font size = 6>Telkom Assignment 3</font></h1>\n",
    "\n",
    "\n",
    "\n",
    "<p><b>Prepared by</b> : Dyah Diwasasri Ratnaningtyas <br>\n",
    "<b>Last Updated</b> : 31 January 2021 <br>\n",
    "    <b>Description</b> : This project considered as Telkom Assignment 3 of Hacktiv8 Introduction to Python for Data Science Batch 47. The aim of this project is to introduce the data visualization with Python as concrete and as consistent as possible. The dataset that will be used is Training Feedback Data 2020 from Telkom Data Bay. The result of this project is for training purpose only.</p>"
   ]
  },
  {
   "cell_type": "code",
   "execution_count": null,
   "id": "consecutive-description",
   "metadata": {},
   "outputs": [],
   "source": []
  }
 ],
 "metadata": {
  "kernelspec": {
   "display_name": "Python 3",
   "language": "python",
   "name": "python3"
  },
  "language_info": {
   "codemirror_mode": {
    "name": "ipython",
    "version": 3
   },
   "file_extension": ".py",
   "mimetype": "text/x-python",
   "name": "python",
   "nbconvert_exporter": "python",
   "pygments_lexer": "ipython3",
   "version": "3.8.3"
  }
 },
 "nbformat": 4,
 "nbformat_minor": 5
}
